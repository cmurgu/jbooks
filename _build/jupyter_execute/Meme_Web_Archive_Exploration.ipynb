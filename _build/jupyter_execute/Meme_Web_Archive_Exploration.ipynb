{
 "cells": [
  {
   "cell_type": "markdown",
   "metadata": {
    "id": "7MDVEzH37J1m"
   },
   "source": [
    "![dsl_logo.png](https://raw.githubusercontent.com/BrockDSL/Analyzing_Web_Archives/main/dsl_logo.png)\n",
    "\n",
    "# Analyzing Web Archives\n",
    "\n",
    "Welcome to the Digital Scholarship Lab Level Analyzing Web Archives workshop. The following notebook provides an investigation into the [Meme Generator dataset](https://www.loc.gov/item/2018655320/)\n",
    "\n",
    "\n",
    "## How this notebook works\n",
    "\n",
    "This webpage is a Google Colab notebook and is comprised of different *cells*. Some are code cells that run Python snippets. To works through these cells simply click on the triangle _run_ button in each cell. Click in the cell below to see the play button, then click on it."
   ]
  },
  {
   "cell_type": "code",
   "execution_count": 1,
   "metadata": {
    "colab": {
     "base_uri": "https://localhost:8080/"
    },
    "id": "zUSj3buK7GgK",
    "outputId": "4505a1bf-3785-4f2b-b213-bd8feb0a69a6"
   },
   "outputs": [
    {
     "name": "stdout",
     "output_type": "stream",
     "text": [
      "Collecting langdetect\r\n"
     ]
    },
    {
     "name": "stdout",
     "output_type": "stream",
     "text": [
      "  Downloading langdetect-1.0.9.tar.gz (981 kB)\r\n"
     ]
    },
    {
     "name": "stdout",
     "output_type": "stream",
     "text": [
      "\u001b[?25l\r",
      "\u001b[K     |▍                               | 10 kB 7.0 MB/s eta 0:00:01\r",
      "\u001b[K     |▊                               | 20 kB 867 kB/s eta 0:00:02\r",
      "\u001b[K     |█                               | 30 kB 890 kB/s eta 0:00:02\r",
      "\u001b[K     |█▍                              | 40 kB 1.1 MB/s eta 0:00:01\r",
      "\u001b[K     |█▊                              | 51 kB 1.1 MB/s eta 0:00:01\r",
      "\u001b[K     |██                              | 61 kB 1.2 MB/s eta 0:00:01"
     ]
    },
    {
     "name": "stdout",
     "output_type": "stream",
     "text": [
      "\r",
      "\u001b[K     |██▍                             | 71 kB 1.1 MB/s eta 0:00:01\r",
      "\u001b[K     |██▊                             | 81 kB 1.2 MB/s eta 0:00:01\r",
      "\u001b[K     |███                             | 92 kB 1.3 MB/s eta 0:00:01\r",
      "\u001b[K     |███▍                            | 102 kB 1.3 MB/s eta 0:00:01\r",
      "\u001b[K     |███▊                            | 112 kB 1.3 MB/s eta 0:00:01\r",
      "\u001b[K     |████                            | 122 kB 1.3 MB/s eta 0:00:01\r",
      "\u001b[K     |████▍                           | 133 kB 1.3 MB/s eta 0:00:01\r",
      "\u001b[K     |████▊                           | 143 kB 1.3 MB/s eta 0:00:01\r",
      "\u001b[K     |█████                           | 153 kB 1.3 MB/s eta 0:00:01\r",
      "\u001b[K     |█████▍                          | 163 kB 1.3 MB/s eta 0:00:01\r",
      "\u001b[K     |█████▊                          | 174 kB 1.3 MB/s eta 0:00:01\r",
      "\u001b[K     |██████                          | 184 kB 1.3 MB/s eta 0:00:01\r",
      "\u001b[K     |██████▍                         | 194 kB 1.3 MB/s eta 0:00:01\r",
      "\u001b[K     |██████▊                         | 204 kB 1.3 MB/s eta 0:00:01"
     ]
    },
    {
     "name": "stdout",
     "output_type": "stream",
     "text": [
      "\r",
      "\u001b[K     |███████                         | 215 kB 1.3 MB/s eta 0:00:01\r",
      "\u001b[K     |███████▍                        | 225 kB 1.3 MB/s eta 0:00:01\r",
      "\u001b[K     |███████▊                        | 235 kB 1.3 MB/s eta 0:00:01\r",
      "\u001b[K     |████████                        | 245 kB 1.3 MB/s eta 0:00:01\r",
      "\u001b[K     |████████▍                       | 256 kB 1.3 MB/s eta 0:00:01\r",
      "\u001b[K     |████████▊                       | 266 kB 1.3 MB/s eta 0:00:01\r",
      "\u001b[K     |█████████                       | 276 kB 1.3 MB/s eta 0:00:01\r",
      "\u001b[K     |█████████▍                      | 286 kB 1.3 MB/s eta 0:00:01\r",
      "\u001b[K     |█████████▊                      | 296 kB 1.3 MB/s eta 0:00:01\r",
      "\u001b[K     |██████████                      | 307 kB 1.3 MB/s eta 0:00:01\r",
      "\u001b[K     |██████████▍                     | 317 kB 1.3 MB/s eta 0:00:01\r",
      "\u001b[K     |██████████▊                     | 327 kB 1.3 MB/s eta 0:00:01\r",
      "\u001b[K     |███████████                     | 337 kB 1.3 MB/s eta 0:00:01\r",
      "\u001b[K     |███████████▍                    | 348 kB 1.3 MB/s eta 0:00:01\r",
      "\u001b[K     |███████████▊                    | 358 kB 1.3 MB/s eta 0:00:01\r",
      "\u001b[K     |████████████                    | 368 kB 1.3 MB/s eta 0:00:01\r",
      "\u001b[K     |████████████▍                   | 378 kB 1.3 MB/s eta 0:00:01\r",
      "\u001b[K     |████████████▊                   | 389 kB 1.3 MB/s eta 0:00:01\r",
      "\u001b[K     |█████████████                   | 399 kB 1.3 MB/s eta 0:00:01\r",
      "\u001b[K     |█████████████▍                  | 409 kB 1.3 MB/s eta 0:00:01\r",
      "\u001b[K     |█████████████▊                  | 419 kB 1.3 MB/s eta 0:00:01\r",
      "\u001b[K     |██████████████                  | 430 kB 1.3 MB/s eta 0:00:01\r",
      "\u001b[K     |██████████████▍                 | 440 kB 1.3 MB/s eta 0:00:01\r",
      "\u001b[K     |██████████████▊                 | 450 kB 1.3 MB/s eta 0:00:01\r",
      "\u001b[K     |███████████████                 | 460 kB 1.3 MB/s eta 0:00:01\r",
      "\u001b[K     |███████████████▍                | 471 kB 1.3 MB/s eta 0:00:01"
     ]
    },
    {
     "name": "stdout",
     "output_type": "stream",
     "text": [
      "\r",
      "\u001b[K     |███████████████▊                | 481 kB 1.3 MB/s eta 0:00:01\r",
      "\u001b[K     |████████████████                | 491 kB 1.3 MB/s eta 0:00:01\r",
      "\u001b[K     |████████████████▍               | 501 kB 1.3 MB/s eta 0:00:01\r",
      "\u001b[K     |████████████████▊               | 512 kB 1.3 MB/s eta 0:00:01\r",
      "\u001b[K     |█████████████████               | 522 kB 1.3 MB/s eta 0:00:01\r",
      "\u001b[K     |█████████████████▍              | 532 kB 1.3 MB/s eta 0:00:01\r",
      "\u001b[K     |█████████████████▊              | 542 kB 1.3 MB/s eta 0:00:01\r",
      "\u001b[K     |██████████████████              | 552 kB 1.3 MB/s eta 0:00:01\r",
      "\u001b[K     |██████████████████▍             | 563 kB 1.3 MB/s eta 0:00:01\r",
      "\u001b[K     |██████████████████▊             | 573 kB 1.3 MB/s eta 0:00:01\r",
      "\u001b[K     |███████████████████             | 583 kB 1.3 MB/s eta 0:00:01\r",
      "\u001b[K     |███████████████████▍            | 593 kB 1.3 MB/s eta 0:00:01\r",
      "\u001b[K     |███████████████████▊            | 604 kB 1.3 MB/s eta 0:00:01\r",
      "\u001b[K     |████████████████████            | 614 kB 1.3 MB/s eta 0:00:01\r",
      "\u001b[K     |████████████████████▍           | 624 kB 1.3 MB/s eta 0:00:01\r",
      "\u001b[K     |████████████████████▊           | 634 kB 1.3 MB/s eta 0:00:01\r",
      "\u001b[K     |█████████████████████           | 645 kB 1.3 MB/s eta 0:00:01\r",
      "\u001b[K     |█████████████████████▍          | 655 kB 1.3 MB/s eta 0:00:01\r",
      "\u001b[K     |█████████████████████▊          | 665 kB 1.3 MB/s eta 0:00:01\r",
      "\u001b[K     |██████████████████████          | 675 kB 1.3 MB/s eta 0:00:01\r",
      "\u001b[K     |██████████████████████▍         | 686 kB 1.3 MB/s eta 0:00:01\r",
      "\u001b[K     |██████████████████████▊         | 696 kB 1.3 MB/s eta 0:00:01\r",
      "\u001b[K     |███████████████████████         | 706 kB 1.3 MB/s eta 0:00:01\r",
      "\u001b[K     |███████████████████████▍        | 716 kB 1.3 MB/s eta 0:00:01\r",
      "\u001b[K     |███████████████████████▊        | 727 kB 1.3 MB/s eta 0:00:01\r",
      "\u001b[K     |████████████████████████        | 737 kB 1.3 MB/s eta 0:00:01\r",
      "\u001b[K     |████████████████████████▍       | 747 kB 1.3 MB/s eta 0:00:01\r",
      "\u001b[K     |████████████████████████▊       | 757 kB 1.3 MB/s eta 0:00:01"
     ]
    },
    {
     "name": "stdout",
     "output_type": "stream",
     "text": [
      "\r",
      "\u001b[K     |█████████████████████████       | 768 kB 1.3 MB/s eta 0:00:01\r",
      "\u001b[K     |█████████████████████████▍      | 778 kB 1.3 MB/s eta 0:00:01\r",
      "\u001b[K     |█████████████████████████▊      | 788 kB 1.3 MB/s eta 0:00:01\r",
      "\u001b[K     |██████████████████████████      | 798 kB 1.3 MB/s eta 0:00:01\r",
      "\u001b[K     |██████████████████████████▍     | 808 kB 1.3 MB/s eta 0:00:01\r",
      "\u001b[K     |██████████████████████████▊     | 819 kB 1.3 MB/s eta 0:00:01\r",
      "\u001b[K     |███████████████████████████     | 829 kB 1.3 MB/s eta 0:00:01\r",
      "\u001b[K     |███████████████████████████▍    | 839 kB 1.3 MB/s eta 0:00:01\r",
      "\u001b[K     |███████████████████████████▊    | 849 kB 1.3 MB/s eta 0:00:01\r",
      "\u001b[K     |████████████████████████████    | 860 kB 1.3 MB/s eta 0:00:01\r",
      "\u001b[K     |████████████████████████████▍   | 870 kB 1.3 MB/s eta 0:00:01\r",
      "\u001b[K     |████████████████████████████▊   | 880 kB 1.3 MB/s eta 0:00:01\r",
      "\u001b[K     |█████████████████████████████   | 890 kB 1.3 MB/s eta 0:00:01\r",
      "\u001b[K     |█████████████████████████████▍  | 901 kB 1.3 MB/s eta 0:00:01\r",
      "\u001b[K     |█████████████████████████████▊  | 911 kB 1.3 MB/s eta 0:00:01\r",
      "\u001b[K     |██████████████████████████████  | 921 kB 1.3 MB/s eta 0:00:01\r",
      "\u001b[K     |██████████████████████████████▍ | 931 kB 1.3 MB/s eta 0:00:01\r",
      "\u001b[K     |██████████████████████████████▊ | 942 kB 1.3 MB/s eta 0:00:01\r",
      "\u001b[K     |███████████████████████████████ | 952 kB 1.3 MB/s eta 0:00:01\r",
      "\u001b[K     |███████████████████████████████▍| 962 kB 1.3 MB/s eta 0:00:01\r",
      "\u001b[K     |███████████████████████████████▊| 972 kB 1.3 MB/s eta 0:00:01\r",
      "\u001b[K     |████████████████████████████████| 981 kB 1.3 MB/s \r\n"
     ]
    },
    {
     "name": "stdout",
     "output_type": "stream",
     "text": [
      "\u001b[?25hRequirement already satisfied: six in /Users/calmurgu/opt/anaconda3/lib/python3.9/site-packages (from langdetect) (1.16.0)\r\n",
      "Building wheels for collected packages: langdetect\r\n"
     ]
    },
    {
     "name": "stdout",
     "output_type": "stream",
     "text": [
      "  Building wheel for langdetect (setup.py) ... \u001b[?25l-"
     ]
    },
    {
     "name": "stdout",
     "output_type": "stream",
     "text": [
      "\b \b\\"
     ]
    },
    {
     "name": "stdout",
     "output_type": "stream",
     "text": [
      "\b \b|"
     ]
    },
    {
     "name": "stdout",
     "output_type": "stream",
     "text": [
      "\b \b/"
     ]
    },
    {
     "name": "stdout",
     "output_type": "stream",
     "text": [
      "\b \b-"
     ]
    },
    {
     "name": "stdout",
     "output_type": "stream",
     "text": [
      "\b \bdone\r\n",
      "\u001b[?25h  Created wheel for langdetect: filename=langdetect-1.0.9-py3-none-any.whl size=993242 sha256=c9fc5c7dd1abdee94ff2c5b1a9253634c6473a4f86f916a8f400af7bfc985f49\r\n",
      "  Stored in directory: /Users/calmurgu/Library/Caches/pip/wheels/d1/c1/d9/7e068de779d863bc8f8fc9467d85e25cfe47fa5051fff1a1bb\r\n"
     ]
    },
    {
     "name": "stdout",
     "output_type": "stream",
     "text": [
      "Successfully built langdetect\r\n"
     ]
    },
    {
     "name": "stdout",
     "output_type": "stream",
     "text": [
      "Installing collected packages: langdetect\r\n"
     ]
    },
    {
     "name": "stdout",
     "output_type": "stream",
     "text": [
      "Successfully installed langdetect-1.0.9\r\n"
     ]
    },
    {
     "name": "stdout",
     "output_type": "stream",
     "text": [
      "Libraries loaded, and ready to run!\n"
     ]
    }
   ],
   "source": [
    "!pip install langdetect\n",
    "\n",
    "import pandas as pd\n",
    "import matplotlib.pyplot as plt\n",
    "#from IPython.core.display import display,HTML\n",
    "from IPython.display import Image,display\n",
    "from langdetect import detect\n",
    "import matplotlib.pyplot as plt\n",
    "\n",
    "%matplotlib inline\n",
    "print(\"Libraries loaded, and ready to run!\")"
   ]
  },
  {
   "cell_type": "markdown",
   "metadata": {
    "id": "KSZ93LCjA8NB"
   },
   "source": [
    "# Loading our data set\n",
    "\n",
    "The information from this archive is saved in a _CSV_ file. Or put in otherwords, something like a spreadsheet. In the next cell we will load this file into something call a dataframe and we'll look at the first 5 entries by looking at the **head**."
   ]
  },
  {
   "cell_type": "code",
   "execution_count": 2,
   "metadata": {
    "colab": {
     "base_uri": "https://localhost:8080/",
     "height": 669
    },
    "id": "pD7R7tpLBXok",
    "outputId": "a6db8189-84a2-4d7c-e1ee-a15b7a401008"
   },
   "outputs": [
    {
     "data": {
      "text/html": [
       "<div>\n",
       "<style scoped>\n",
       "    .dataframe tbody tr th:only-of-type {\n",
       "        vertical-align: middle;\n",
       "    }\n",
       "\n",
       "    .dataframe tbody tr th {\n",
       "        vertical-align: top;\n",
       "    }\n",
       "\n",
       "    .dataframe thead th {\n",
       "        text-align: right;\n",
       "    }\n",
       "</style>\n",
       "<table border=\"1\" class=\"dataframe\">\n",
       "  <thead>\n",
       "    <tr style=\"text-align: right;\">\n",
       "      <th></th>\n",
       "      <th>Meme ID</th>\n",
       "      <th>Archived URL</th>\n",
       "      <th>Base Meme Name</th>\n",
       "      <th>Meme Page URL</th>\n",
       "      <th>MD5 Hash</th>\n",
       "      <th>File Size (In Bytes)</th>\n",
       "      <th>Alternate Text</th>\n",
       "      <th>Display Name</th>\n",
       "      <th>Upper Text</th>\n",
       "      <th>Lower Text</th>\n",
       "    </tr>\n",
       "  </thead>\n",
       "  <tbody>\n",
       "    <tr>\n",
       "      <th>0</th>\n",
       "      <td>10509464</td>\n",
       "      <td>http://webarchive.loc.gov/all/0/http://cdn.mem...</td>\n",
       "      <td>Spiderman Approves</td>\n",
       "      <td>http://memegenerator.net/instance/10509464</td>\n",
       "      <td>91eee1453f2b66b4b0d662476bf630d8</td>\n",
       "      <td>87868</td>\n",
       "      <td>seems legit</td>\n",
       "      <td>Spiderman Approves</td>\n",
       "      <td>seems</td>\n",
       "      <td>legit</td>\n",
       "    </tr>\n",
       "    <tr>\n",
       "      <th>1</th>\n",
       "      <td>12285257</td>\n",
       "      <td>http://webarchive.loc.gov/all/0/http://cdn.mem...</td>\n",
       "      <td>Alright Then Business Kid</td>\n",
       "      <td>http://memegenerator.net/instance/12285257</td>\n",
       "      <td>96a3aa60c0f3a5ffb027e8977f23b2cc</td>\n",
       "      <td>110242</td>\n",
       "      <td>Fret not I stayed at a Holiday Inn Express las...</td>\n",
       "      <td>Alright Then Business Kid</td>\n",
       "      <td>Fret not</td>\n",
       "      <td>I stayed at a Holiday Inn Express last night</td>\n",
       "    </tr>\n",
       "    <tr>\n",
       "      <th>2</th>\n",
       "      <td>20612245</td>\n",
       "      <td>http://webarchive.loc.gov/all/0/https://cdn.me...</td>\n",
       "      <td>Archer</td>\n",
       "      <td>http://memegenerator.net/instance/20612245</td>\n",
       "      <td>1b84704851704a2dc366768a2210d659</td>\n",
       "      <td>125963</td>\n",
       "      <td>hello airplanes? yeah, this is blimps. Yeah, y...</td>\n",
       "      <td>Archer</td>\n",
       "      <td>hello airplanes? yeah, this is blimps.</td>\n",
       "      <td>Yeah, you win.</td>\n",
       "    </tr>\n",
       "    <tr>\n",
       "      <th>3</th>\n",
       "      <td>20614628</td>\n",
       "      <td>http://webarchive.loc.gov/all/0/http://cdn.mem...</td>\n",
       "      <td>Futurama Fry</td>\n",
       "      <td>http://memegenerator.net/instance/20614628</td>\n",
       "      <td>448f5d4a15f5c90ce4d64c75013c8e9a</td>\n",
       "      <td>161623</td>\n",
       "      <td>LEGS IN COVER. TOO HOT. LEGS OUT OF COVER. TOO...</td>\n",
       "      <td>Futurama Fry</td>\n",
       "      <td>LEGS IN COVER. TOO HOT. LEGS OUT OF COVER. TOO...</td>\n",
       "      <td>BUt Scared monster under the bed will eat me</td>\n",
       "    </tr>\n",
       "    <tr>\n",
       "      <th>4</th>\n",
       "      <td>24194267</td>\n",
       "      <td>http://webarchive.loc.gov/all/0/https://cdn.me...</td>\n",
       "      <td>One Does Not Simply</td>\n",
       "      <td>http://memegenerator.net/instance/24194267</td>\n",
       "      <td>37feb180a0e7660e360ed94380b39f60</td>\n",
       "      <td>92866</td>\n",
       "      <td>one does not simply  put toothpaste back in th...</td>\n",
       "      <td>One Does Not Simply</td>\n",
       "      <td>one does not simply</td>\n",
       "      <td>put toothpaste back in the tube</td>\n",
       "    </tr>\n",
       "  </tbody>\n",
       "</table>\n",
       "</div>"
      ],
      "text/plain": [
       "    Meme ID                                       Archived URL  \\\n",
       "0  10509464  http://webarchive.loc.gov/all/0/http://cdn.mem...   \n",
       "1  12285257  http://webarchive.loc.gov/all/0/http://cdn.mem...   \n",
       "2  20612245  http://webarchive.loc.gov/all/0/https://cdn.me...   \n",
       "3  20614628  http://webarchive.loc.gov/all/0/http://cdn.mem...   \n",
       "4  24194267  http://webarchive.loc.gov/all/0/https://cdn.me...   \n",
       "\n",
       "              Base Meme Name                               Meme Page URL  \\\n",
       "0         Spiderman Approves  http://memegenerator.net/instance/10509464   \n",
       "1  Alright Then Business Kid  http://memegenerator.net/instance/12285257   \n",
       "2                     Archer  http://memegenerator.net/instance/20612245   \n",
       "3               Futurama Fry  http://memegenerator.net/instance/20614628   \n",
       "4        One Does Not Simply  http://memegenerator.net/instance/24194267   \n",
       "\n",
       "                           MD5 Hash  File Size (In Bytes)  \\\n",
       "0  91eee1453f2b66b4b0d662476bf630d8                 87868   \n",
       "1  96a3aa60c0f3a5ffb027e8977f23b2cc                110242   \n",
       "2  1b84704851704a2dc366768a2210d659                125963   \n",
       "3  448f5d4a15f5c90ce4d64c75013c8e9a                161623   \n",
       "4  37feb180a0e7660e360ed94380b39f60                 92866   \n",
       "\n",
       "                                      Alternate Text  \\\n",
       "0                                        seems legit   \n",
       "1  Fret not I stayed at a Holiday Inn Express las...   \n",
       "2  hello airplanes? yeah, this is blimps. Yeah, y...   \n",
       "3  LEGS IN COVER. TOO HOT. LEGS OUT OF COVER. TOO...   \n",
       "4  one does not simply  put toothpaste back in th...   \n",
       "\n",
       "                Display Name  \\\n",
       "0         Spiderman Approves   \n",
       "1  Alright Then Business Kid   \n",
       "2                     Archer   \n",
       "3               Futurama Fry   \n",
       "4        One Does Not Simply   \n",
       "\n",
       "                                          Upper Text  \\\n",
       "0                                              seems   \n",
       "1                                           Fret not   \n",
       "2             hello airplanes? yeah, this is blimps.   \n",
       "3  LEGS IN COVER. TOO HOT. LEGS OUT OF COVER. TOO...   \n",
       "4                                one does not simply   \n",
       "\n",
       "                                     Lower Text  \n",
       "0                                         legit  \n",
       "1  I stayed at a Holiday Inn Express last night  \n",
       "2                                Yeah, you win.  \n",
       "3  BUt Scared monster under the bed will eat me  \n",
       "4               put toothpaste back in the tube  "
      ]
     },
     "execution_count": 2,
     "metadata": {},
     "output_type": "execute_result"
    }
   ],
   "source": [
    "meme_data = pd.read_csv(\"https://raw.githubusercontent.com/BrockDSL/Analyzing_Web_Archives/main/memegenerator.csv\", sep=\",\")\n",
    "meme_data.head(5)"
   ]
  },
  {
   "cell_type": "markdown",
   "metadata": {
    "id": "vfrbcPB3G0iS"
   },
   "source": [
    "# Some General Data Exploration\n",
    "\n",
    "\n",
    "\n",
    "\n",
    "---\n",
    "\n"
   ]
  },
  {
   "cell_type": "markdown",
   "metadata": {
    "id": "BJMUZ14FGYdt"
   },
   "source": [
    "### How much data?\n",
    "\n",
    "We can count the **length** of our data frame to see how many entries we have using thing len() function.\n"
   ]
  },
  {
   "cell_type": "code",
   "execution_count": 3,
   "metadata": {
    "colab": {
     "base_uri": "https://localhost:8080/"
    },
    "id": "3OzCSdRnGjLT",
    "outputId": "b2acea22-2d65-421a-91b0-b4320917a7da"
   },
   "outputs": [
    {
     "name": "stdout",
     "output_type": "stream",
     "text": [
      "We have this many memes to look at:  57687\n"
     ]
    }
   ],
   "source": [
    "\n",
    "print(\"We have this many memes to look at: \",len(meme_data))\n"
   ]
  },
  {
   "cell_type": "markdown",
   "metadata": {
    "id": "g9c1piJ1FPPC"
   },
   "source": [
    "### Random Entry\n",
    "\n",
    "To get a better sense of what is in our dataset let's look at a random entry by using **sample** with a value of 1. Click the below button a few times to get a few different options."
   ]
  },
  {
   "cell_type": "code",
   "execution_count": 4,
   "metadata": {
    "colab": {
     "base_uri": "https://localhost:8080/",
     "height": 555
    },
    "id": "tkAfcLogFYru",
    "outputId": "a4f0d11c-294b-4288-80a1-b59b15fd230c"
   },
   "outputs": [
    {
     "data": {
      "text/html": [
       "<img src=\"http://webarchive.loc.gov/all/0/http://cdn.meme.am/instances/250x250/17995050.jpg\"/>"
      ],
      "text/plain": [
       "<IPython.core.display.Image object>"
      ]
     },
     "metadata": {},
     "output_type": "display_data"
    },
    {
     "name": "stdout",
     "output_type": "stream",
     "text": [
      "View on Memegenerator: \t http://memegenerator.net/instance/17995050\n",
      "View on Archive: \t\t\t http://webarchive.loc.gov/all/0/http://cdn.meme.am/instances/250x250/17995050.jpg\n"
     ]
    },
    {
     "data": {
      "text/html": [
       "<div>\n",
       "<style scoped>\n",
       "    .dataframe tbody tr th:only-of-type {\n",
       "        vertical-align: middle;\n",
       "    }\n",
       "\n",
       "    .dataframe tbody tr th {\n",
       "        vertical-align: top;\n",
       "    }\n",
       "\n",
       "    .dataframe thead th {\n",
       "        text-align: right;\n",
       "    }\n",
       "</style>\n",
       "<table border=\"1\" class=\"dataframe\">\n",
       "  <thead>\n",
       "    <tr style=\"text-align: right;\">\n",
       "      <th></th>\n",
       "      <th>Meme ID</th>\n",
       "      <th>Archived URL</th>\n",
       "      <th>Base Meme Name</th>\n",
       "      <th>Meme Page URL</th>\n",
       "      <th>MD5 Hash</th>\n",
       "      <th>File Size (In Bytes)</th>\n",
       "      <th>Alternate Text</th>\n",
       "      <th>Display Name</th>\n",
       "      <th>Upper Text</th>\n",
       "      <th>Lower Text</th>\n",
       "    </tr>\n",
       "  </thead>\n",
       "  <tbody>\n",
       "    <tr>\n",
       "      <th>26566</th>\n",
       "      <td>17995050</td>\n",
       "      <td>http://webarchive.loc.gov/all/0/http://cdn.mem...</td>\n",
       "      <td>Socially Terrifying Penguin</td>\n",
       "      <td>http://memegenerator.net/instance/17995050</td>\n",
       "      <td>9c92de4807263d329613e39a1aa8fdd9</td>\n",
       "      <td>39658</td>\n",
       "      <td>у матери истерика со слезами токо троллишь, чт...</td>\n",
       "      <td>Socially Terrifying Penguin</td>\n",
       "      <td>у матери истерика со слезами</td>\n",
       "      <td>токо троллишь, чтобы громче орала</td>\n",
       "    </tr>\n",
       "  </tbody>\n",
       "</table>\n",
       "</div>"
      ],
      "text/plain": [
       "        Meme ID                                       Archived URL  \\\n",
       "26566  17995050  http://webarchive.loc.gov/all/0/http://cdn.mem...   \n",
       "\n",
       "                    Base Meme Name  \\\n",
       "26566  Socially Terrifying Penguin   \n",
       "\n",
       "                                    Meme Page URL  \\\n",
       "26566  http://memegenerator.net/instance/17995050   \n",
       "\n",
       "                               MD5 Hash  File Size (In Bytes)  \\\n",
       "26566  9c92de4807263d329613e39a1aa8fdd9                 39658   \n",
       "\n",
       "                                          Alternate Text  \\\n",
       "26566  у матери истерика со слезами токо троллишь, чт...   \n",
       "\n",
       "                      Display Name                    Upper Text  \\\n",
       "26566  Socially Terrifying Penguin  у матери истерика со слезами   \n",
       "\n",
       "                              Lower Text  \n",
       "26566  токо троллишь, чтобы громче орала  "
      ]
     },
     "execution_count": 4,
     "metadata": {},
     "output_type": "execute_result"
    }
   ],
   "source": [
    "rando = meme_data.sample(1)\n",
    "display(Image(url=rando['Archived URL'].values[0], format='jpg'))\n",
    "print(\"View on Memegenerator: \\t\",rando['Meme Page URL'].values[0])\n",
    "print(\"View on Archive: \\t\\t\\t\",rando['Archived URL'].values[0])\n",
    "rando"
   ]
  },
  {
   "cell_type": "markdown",
   "metadata": {
    "id": "OA30QAkAfZ0w"
   },
   "source": [
    "**Q1** Have a look at the data that is associated with a random record. In the chat box suggest some things you might want to explore with this data? Share your reponse in the chat box."
   ]
  },
  {
   "cell_type": "markdown",
   "metadata": {
    "id": "m69mlazEgFo-"
   },
   "source": []
  },
  {
   "cell_type": "markdown",
   "metadata": {
    "id": "D3bk4rXDFBVZ"
   },
   "source": [
    "# Category of memes?\n",
    "\n",
    "As you might know, memes come in many different flavours. Let's see if we can find out how many types there are? We'll do this by **grouping** our _Base Meme Name_ column and **counting** how many entries are in each."
   ]
  },
  {
   "cell_type": "code",
   "execution_count": 5,
   "metadata": {
    "colab": {
     "base_uri": "https://localhost:8080/",
     "height": 534
    },
    "id": "keJ_eKyaE_SR",
    "outputId": "70ce732f-e936-43a0-dab3-c9d90267299b"
   },
   "outputs": [
    {
     "data": {
      "text/html": [
       "<div>\n",
       "<style scoped>\n",
       "    .dataframe tbody tr th:only-of-type {\n",
       "        vertical-align: middle;\n",
       "    }\n",
       "\n",
       "    .dataframe tbody tr th {\n",
       "        vertical-align: top;\n",
       "    }\n",
       "\n",
       "    .dataframe thead th {\n",
       "        text-align: right;\n",
       "    }\n",
       "</style>\n",
       "<table border=\"1\" class=\"dataframe\">\n",
       "  <thead>\n",
       "    <tr style=\"text-align: right;\">\n",
       "      <th></th>\n",
       "      <th>Meme ID</th>\n",
       "      <th>Archived URL</th>\n",
       "      <th>Meme Page URL</th>\n",
       "      <th>MD5 Hash</th>\n",
       "      <th>File Size (In Bytes)</th>\n",
       "      <th>Alternate Text</th>\n",
       "      <th>Display Name</th>\n",
       "      <th>Upper Text</th>\n",
       "      <th>Lower Text</th>\n",
       "    </tr>\n",
       "    <tr>\n",
       "      <th>Base Meme Name</th>\n",
       "      <th></th>\n",
       "      <th></th>\n",
       "      <th></th>\n",
       "      <th></th>\n",
       "      <th></th>\n",
       "      <th></th>\n",
       "      <th></th>\n",
       "      <th></th>\n",
       "      <th></th>\n",
       "    </tr>\n",
       "  </thead>\n",
       "  <tbody>\n",
       "    <tr>\n",
       "      <th>-</th>\n",
       "      <td>70</td>\n",
       "      <td>70</td>\n",
       "      <td>70</td>\n",
       "      <td>70</td>\n",
       "      <td>70</td>\n",
       "      <td>70</td>\n",
       "      <td>70</td>\n",
       "      <td>70</td>\n",
       "      <td>70</td>\n",
       "    </tr>\n",
       "    <tr>\n",
       "      <th>10guy</th>\n",
       "      <td>1</td>\n",
       "      <td>1</td>\n",
       "      <td>1</td>\n",
       "      <td>1</td>\n",
       "      <td>1</td>\n",
       "      <td>1</td>\n",
       "      <td>1</td>\n",
       "      <td>1</td>\n",
       "      <td>1</td>\n",
       "    </tr>\n",
       "    <tr>\n",
       "      <th>12 oz mouse</th>\n",
       "      <td>9</td>\n",
       "      <td>9</td>\n",
       "      <td>9</td>\n",
       "      <td>9</td>\n",
       "      <td>9</td>\n",
       "      <td>9</td>\n",
       "      <td>9</td>\n",
       "      <td>9</td>\n",
       "      <td>9</td>\n",
       "    </tr>\n",
       "    <tr>\n",
       "      <th>158</th>\n",
       "      <td>66</td>\n",
       "      <td>66</td>\n",
       "      <td>66</td>\n",
       "      <td>66</td>\n",
       "      <td>66</td>\n",
       "      <td>66</td>\n",
       "      <td>66</td>\n",
       "      <td>66</td>\n",
       "      <td>66</td>\n",
       "    </tr>\n",
       "    <tr>\n",
       "      <th>1889 [10] guy</th>\n",
       "      <td>52</td>\n",
       "      <td>52</td>\n",
       "      <td>52</td>\n",
       "      <td>52</td>\n",
       "      <td>52</td>\n",
       "      <td>52</td>\n",
       "      <td>52</td>\n",
       "      <td>52</td>\n",
       "      <td>52</td>\n",
       "    </tr>\n",
       "    <tr>\n",
       "      <th>...</th>\n",
       "      <td>...</td>\n",
       "      <td>...</td>\n",
       "      <td>...</td>\n",
       "      <td>...</td>\n",
       "      <td>...</td>\n",
       "      <td>...</td>\n",
       "      <td>...</td>\n",
       "      <td>...</td>\n",
       "      <td>...</td>\n",
       "    </tr>\n",
       "    <tr>\n",
       "      <th>ТИПИЧНАЯ DIVA</th>\n",
       "      <td>45</td>\n",
       "      <td>45</td>\n",
       "      <td>45</td>\n",
       "      <td>45</td>\n",
       "      <td>45</td>\n",
       "      <td>45</td>\n",
       "      <td>45</td>\n",
       "      <td>45</td>\n",
       "      <td>45</td>\n",
       "    </tr>\n",
       "    <tr>\n",
       "      <th>ТИПИЧНЫЙ JONGHYUN</th>\n",
       "      <td>1</td>\n",
       "      <td>1</td>\n",
       "      <td>1</td>\n",
       "      <td>1</td>\n",
       "      <td>1</td>\n",
       "      <td>1</td>\n",
       "      <td>1</td>\n",
       "      <td>1</td>\n",
       "      <td>1</td>\n",
       "    </tr>\n",
       "    <tr>\n",
       "      <th>ТИПИЧНЫЙ ONEW</th>\n",
       "      <td>1</td>\n",
       "      <td>1</td>\n",
       "      <td>1</td>\n",
       "      <td>1</td>\n",
       "      <td>1</td>\n",
       "      <td>1</td>\n",
       "      <td>1</td>\n",
       "      <td>1</td>\n",
       "      <td>1</td>\n",
       "    </tr>\n",
       "    <tr>\n",
       "      <th>ТИПИЧНЫЙ TAEMIN</th>\n",
       "      <td>1</td>\n",
       "      <td>1</td>\n",
       "      <td>1</td>\n",
       "      <td>1</td>\n",
       "      <td>1</td>\n",
       "      <td>1</td>\n",
       "      <td>1</td>\n",
       "      <td>1</td>\n",
       "      <td>1</td>\n",
       "    </tr>\n",
       "    <tr>\n",
       "      <th>Типичная Эля Чавес/Typical Elya Chavez</th>\n",
       "      <td>1</td>\n",
       "      <td>1</td>\n",
       "      <td>1</td>\n",
       "      <td>1</td>\n",
       "      <td>1</td>\n",
       "      <td>1</td>\n",
       "      <td>1</td>\n",
       "      <td>1</td>\n",
       "      <td>1</td>\n",
       "    </tr>\n",
       "  </tbody>\n",
       "</table>\n",
       "<p>1651 rows × 9 columns</p>\n",
       "</div>"
      ],
      "text/plain": [
       "                                        Meme ID  Archived URL  Meme Page URL  \\\n",
       "Base Meme Name                                                                 \n",
       "-                                            70            70             70   \n",
       "10guy                                         1             1              1   \n",
       "12 oz mouse                                   9             9              9   \n",
       "158                                          66            66             66   \n",
       "1889 [10] guy                                52            52             52   \n",
       "...                                         ...           ...            ...   \n",
       "ТИПИЧНАЯ DIVA                                45            45             45   \n",
       "ТИПИЧНЫЙ JONGHYUN                             1             1              1   \n",
       "ТИПИЧНЫЙ ONEW                                 1             1              1   \n",
       "ТИПИЧНЫЙ TAEMIN                               1             1              1   \n",
       "Типичная Эля Чавес/Typical Elya Chavez        1             1              1   \n",
       "\n",
       "                                        MD5 Hash  File Size (In Bytes)  \\\n",
       "Base Meme Name                                                           \n",
       "-                                             70                    70   \n",
       "10guy                                          1                     1   \n",
       "12 oz mouse                                    9                     9   \n",
       "158                                           66                    66   \n",
       "1889 [10] guy                                 52                    52   \n",
       "...                                          ...                   ...   \n",
       "ТИПИЧНАЯ DIVA                                 45                    45   \n",
       "ТИПИЧНЫЙ JONGHYUN                              1                     1   \n",
       "ТИПИЧНЫЙ ONEW                                  1                     1   \n",
       "ТИПИЧНЫЙ TAEMIN                                1                     1   \n",
       "Типичная Эля Чавес/Typical Elya Chavez         1                     1   \n",
       "\n",
       "                                        Alternate Text  Display Name  \\\n",
       "Base Meme Name                                                         \n",
       "-                                                   70            70   \n",
       "10guy                                                1             1   \n",
       "12 oz mouse                                          9             9   \n",
       "158                                                 66            66   \n",
       "1889 [10] guy                                       52            52   \n",
       "...                                                ...           ...   \n",
       "ТИПИЧНАЯ DIVA                                       45            45   \n",
       "ТИПИЧНЫЙ JONGHYUN                                    1             1   \n",
       "ТИПИЧНЫЙ ONEW                                        1             1   \n",
       "ТИПИЧНЫЙ TAEMIN                                      1             1   \n",
       "Типичная Эля Чавес/Typical Elya Chavez               1             1   \n",
       "\n",
       "                                        Upper Text  Lower Text  \n",
       "Base Meme Name                                                  \n",
       "-                                               70          70  \n",
       "10guy                                            1           1  \n",
       "12 oz mouse                                      9           9  \n",
       "158                                             66          66  \n",
       "1889 [10] guy                                   52          52  \n",
       "...                                            ...         ...  \n",
       "ТИПИЧНАЯ DIVA                                   45          45  \n",
       "ТИПИЧНЫЙ JONGHYUN                                1           1  \n",
       "ТИПИЧНЫЙ ONEW                                    1           1  \n",
       "ТИПИЧНЫЙ TAEMIN                                  1           1  \n",
       "Типичная Эля Чавес/Typical Elya Chavez           1           1  \n",
       "\n",
       "[1651 rows x 9 columns]"
      ]
     },
     "execution_count": 5,
     "metadata": {},
     "output_type": "execute_result"
    }
   ],
   "source": [
    "meme_data.groupby([\"Base Meme Name\"]).count()"
   ]
  },
  {
   "cell_type": "markdown",
   "metadata": {
    "id": "Jeh2fR1eHDlc"
   },
   "source": [
    "**Q2** Based on the above summary how many different type so memes we have? Share your response in the chat box."
   ]
  },
  {
   "cell_type": "markdown",
   "metadata": {
    "id": "roCbVFJpgKjo"
   },
   "source": []
  },
  {
   "cell_type": "markdown",
   "metadata": {
    "id": "zubnxndqFuQ-"
   },
   "source": [
    "Yikes! That looks like a lot. Let's just keep the top **25** entries. We'll do this by **sorting**."
   ]
  },
  {
   "cell_type": "code",
   "execution_count": 6,
   "metadata": {
    "colab": {
     "base_uri": "https://localhost:8080/",
     "height": 944
    },
    "id": "tl9azoXCF35p",
    "outputId": "7d8c2544-d522-4787-993c-1306f2512f2f"
   },
   "outputs": [
    {
     "data": {
      "text/html": [
       "<div>\n",
       "<style scoped>\n",
       "    .dataframe tbody tr th:only-of-type {\n",
       "        vertical-align: middle;\n",
       "    }\n",
       "\n",
       "    .dataframe tbody tr th {\n",
       "        vertical-align: top;\n",
       "    }\n",
       "\n",
       "    .dataframe thead th {\n",
       "        text-align: right;\n",
       "    }\n",
       "</style>\n",
       "<table border=\"1\" class=\"dataframe\">\n",
       "  <thead>\n",
       "    <tr style=\"text-align: right;\">\n",
       "      <th></th>\n",
       "      <th>Meme ID</th>\n",
       "      <th>Archived URL</th>\n",
       "      <th>Meme Page URL</th>\n",
       "      <th>MD5 Hash</th>\n",
       "      <th>File Size (In Bytes)</th>\n",
       "      <th>Alternate Text</th>\n",
       "      <th>Display Name</th>\n",
       "      <th>Upper Text</th>\n",
       "      <th>Lower Text</th>\n",
       "    </tr>\n",
       "    <tr>\n",
       "      <th>Base Meme Name</th>\n",
       "      <th></th>\n",
       "      <th></th>\n",
       "      <th></th>\n",
       "      <th></th>\n",
       "      <th></th>\n",
       "      <th></th>\n",
       "      <th></th>\n",
       "      <th></th>\n",
       "      <th></th>\n",
       "    </tr>\n",
       "  </thead>\n",
       "  <tbody>\n",
       "    <tr>\n",
       "      <th>Y U No</th>\n",
       "      <td>766</td>\n",
       "      <td>766</td>\n",
       "      <td>766</td>\n",
       "      <td>766</td>\n",
       "      <td>766</td>\n",
       "      <td>766</td>\n",
       "      <td>766</td>\n",
       "      <td>766</td>\n",
       "      <td>766</td>\n",
       "    </tr>\n",
       "    <tr>\n",
       "      <th>Futurama Fry</th>\n",
       "      <td>663</td>\n",
       "      <td>663</td>\n",
       "      <td>663</td>\n",
       "      <td>663</td>\n",
       "      <td>663</td>\n",
       "      <td>663</td>\n",
       "      <td>663</td>\n",
       "      <td>663</td>\n",
       "      <td>663</td>\n",
       "    </tr>\n",
       "    <tr>\n",
       "      <th>Insanity Wolf</th>\n",
       "      <td>612</td>\n",
       "      <td>612</td>\n",
       "      <td>612</td>\n",
       "      <td>612</td>\n",
       "      <td>612</td>\n",
       "      <td>612</td>\n",
       "      <td>612</td>\n",
       "      <td>612</td>\n",
       "      <td>612</td>\n",
       "    </tr>\n",
       "    <tr>\n",
       "      <th>Philosoraptor</th>\n",
       "      <td>531</td>\n",
       "      <td>531</td>\n",
       "      <td>531</td>\n",
       "      <td>531</td>\n",
       "      <td>531</td>\n",
       "      <td>531</td>\n",
       "      <td>531</td>\n",
       "      <td>531</td>\n",
       "      <td>531</td>\n",
       "    </tr>\n",
       "    <tr>\n",
       "      <th>The Most Interesting Man In The World</th>\n",
       "      <td>511</td>\n",
       "      <td>511</td>\n",
       "      <td>511</td>\n",
       "      <td>511</td>\n",
       "      <td>511</td>\n",
       "      <td>511</td>\n",
       "      <td>511</td>\n",
       "      <td>511</td>\n",
       "      <td>511</td>\n",
       "    </tr>\n",
       "    <tr>\n",
       "      <th>Success Kid</th>\n",
       "      <td>510</td>\n",
       "      <td>510</td>\n",
       "      <td>510</td>\n",
       "      <td>510</td>\n",
       "      <td>510</td>\n",
       "      <td>510</td>\n",
       "      <td>510</td>\n",
       "      <td>510</td>\n",
       "      <td>510</td>\n",
       "    </tr>\n",
       "    <tr>\n",
       "      <th>Foul Bachelor Frog</th>\n",
       "      <td>469</td>\n",
       "      <td>469</td>\n",
       "      <td>469</td>\n",
       "      <td>469</td>\n",
       "      <td>469</td>\n",
       "      <td>469</td>\n",
       "      <td>469</td>\n",
       "      <td>469</td>\n",
       "      <td>468</td>\n",
       "    </tr>\n",
       "    <tr>\n",
       "      <th>Socially Awkward Penguin</th>\n",
       "      <td>446</td>\n",
       "      <td>446</td>\n",
       "      <td>446</td>\n",
       "      <td>446</td>\n",
       "      <td>446</td>\n",
       "      <td>446</td>\n",
       "      <td>446</td>\n",
       "      <td>446</td>\n",
       "      <td>446</td>\n",
       "    </tr>\n",
       "    <tr>\n",
       "      <th>Advice Yoda Gives</th>\n",
       "      <td>420</td>\n",
       "      <td>420</td>\n",
       "      <td>420</td>\n",
       "      <td>420</td>\n",
       "      <td>420</td>\n",
       "      <td>420</td>\n",
       "      <td>420</td>\n",
       "      <td>420</td>\n",
       "      <td>420</td>\n",
       "    </tr>\n",
       "    <tr>\n",
       "      <th>Joseph Ducreux</th>\n",
       "      <td>415</td>\n",
       "      <td>415</td>\n",
       "      <td>415</td>\n",
       "      <td>415</td>\n",
       "      <td>415</td>\n",
       "      <td>415</td>\n",
       "      <td>415</td>\n",
       "      <td>415</td>\n",
       "      <td>415</td>\n",
       "    </tr>\n",
       "    <tr>\n",
       "      <th>Forever Alone</th>\n",
       "      <td>414</td>\n",
       "      <td>414</td>\n",
       "      <td>414</td>\n",
       "      <td>414</td>\n",
       "      <td>414</td>\n",
       "      <td>414</td>\n",
       "      <td>414</td>\n",
       "      <td>414</td>\n",
       "      <td>414</td>\n",
       "    </tr>\n",
       "    <tr>\n",
       "      <th>Slowpoke</th>\n",
       "      <td>400</td>\n",
       "      <td>400</td>\n",
       "      <td>400</td>\n",
       "      <td>400</td>\n",
       "      <td>400</td>\n",
       "      <td>400</td>\n",
       "      <td>400</td>\n",
       "      <td>400</td>\n",
       "      <td>400</td>\n",
       "    </tr>\n",
       "    <tr>\n",
       "      <th>Good Guy Greg</th>\n",
       "      <td>387</td>\n",
       "      <td>387</td>\n",
       "      <td>387</td>\n",
       "      <td>387</td>\n",
       "      <td>387</td>\n",
       "      <td>387</td>\n",
       "      <td>387</td>\n",
       "      <td>387</td>\n",
       "      <td>387</td>\n",
       "    </tr>\n",
       "    <tr>\n",
       "      <th>we got a badass over here</th>\n",
       "      <td>381</td>\n",
       "      <td>381</td>\n",
       "      <td>381</td>\n",
       "      <td>381</td>\n",
       "      <td>381</td>\n",
       "      <td>381</td>\n",
       "      <td>381</td>\n",
       "      <td>381</td>\n",
       "      <td>380</td>\n",
       "    </tr>\n",
       "    <tr>\n",
       "      <th>Courage Wolf</th>\n",
       "      <td>375</td>\n",
       "      <td>375</td>\n",
       "      <td>375</td>\n",
       "      <td>375</td>\n",
       "      <td>375</td>\n",
       "      <td>375</td>\n",
       "      <td>375</td>\n",
       "      <td>375</td>\n",
       "      <td>375</td>\n",
       "    </tr>\n",
       "    <tr>\n",
       "      <th>Butthurt Dweller</th>\n",
       "      <td>365</td>\n",
       "      <td>365</td>\n",
       "      <td>365</td>\n",
       "      <td>365</td>\n",
       "      <td>365</td>\n",
       "      <td>365</td>\n",
       "      <td>365</td>\n",
       "      <td>365</td>\n",
       "      <td>365</td>\n",
       "    </tr>\n",
       "    <tr>\n",
       "      <th>Yo Dawg</th>\n",
       "      <td>363</td>\n",
       "      <td>363</td>\n",
       "      <td>363</td>\n",
       "      <td>363</td>\n",
       "      <td>363</td>\n",
       "      <td>363</td>\n",
       "      <td>363</td>\n",
       "      <td>362</td>\n",
       "      <td>362</td>\n",
       "    </tr>\n",
       "    <tr>\n",
       "      <th>Willy Wonka</th>\n",
       "      <td>356</td>\n",
       "      <td>356</td>\n",
       "      <td>356</td>\n",
       "      <td>356</td>\n",
       "      <td>356</td>\n",
       "      <td>356</td>\n",
       "      <td>356</td>\n",
       "      <td>356</td>\n",
       "      <td>356</td>\n",
       "    </tr>\n",
       "    <tr>\n",
       "      <th>success baby</th>\n",
       "      <td>345</td>\n",
       "      <td>345</td>\n",
       "      <td>345</td>\n",
       "      <td>345</td>\n",
       "      <td>345</td>\n",
       "      <td>345</td>\n",
       "      <td>345</td>\n",
       "      <td>344</td>\n",
       "      <td>342</td>\n",
       "    </tr>\n",
       "    <tr>\n",
       "      <th>Chuck Norris</th>\n",
       "      <td>344</td>\n",
       "      <td>344</td>\n",
       "      <td>344</td>\n",
       "      <td>344</td>\n",
       "      <td>344</td>\n",
       "      <td>344</td>\n",
       "      <td>344</td>\n",
       "      <td>344</td>\n",
       "      <td>344</td>\n",
       "    </tr>\n",
       "    <tr>\n",
       "      <th>Conspiracy Keanu</th>\n",
       "      <td>340</td>\n",
       "      <td>340</td>\n",
       "      <td>340</td>\n",
       "      <td>340</td>\n",
       "      <td>340</td>\n",
       "      <td>340</td>\n",
       "      <td>340</td>\n",
       "      <td>340</td>\n",
       "      <td>340</td>\n",
       "    </tr>\n",
       "    <tr>\n",
       "      <th>Annoying Gamer Kid</th>\n",
       "      <td>332</td>\n",
       "      <td>332</td>\n",
       "      <td>332</td>\n",
       "      <td>332</td>\n",
       "      <td>332</td>\n",
       "      <td>332</td>\n",
       "      <td>332</td>\n",
       "      <td>332</td>\n",
       "      <td>332</td>\n",
       "    </tr>\n",
       "    <tr>\n",
       "      <th>Trollface</th>\n",
       "      <td>308</td>\n",
       "      <td>308</td>\n",
       "      <td>308</td>\n",
       "      <td>308</td>\n",
       "      <td>308</td>\n",
       "      <td>308</td>\n",
       "      <td>308</td>\n",
       "      <td>308</td>\n",
       "      <td>308</td>\n",
       "    </tr>\n",
       "    <tr>\n",
       "      <th>Me Gusta</th>\n",
       "      <td>299</td>\n",
       "      <td>299</td>\n",
       "      <td>299</td>\n",
       "      <td>299</td>\n",
       "      <td>299</td>\n",
       "      <td>297</td>\n",
       "      <td>299</td>\n",
       "      <td>298</td>\n",
       "      <td>294</td>\n",
       "    </tr>\n",
       "    <tr>\n",
       "      <th>All the things</th>\n",
       "      <td>297</td>\n",
       "      <td>297</td>\n",
       "      <td>297</td>\n",
       "      <td>297</td>\n",
       "      <td>297</td>\n",
       "      <td>297</td>\n",
       "      <td>297</td>\n",
       "      <td>297</td>\n",
       "      <td>296</td>\n",
       "    </tr>\n",
       "  </tbody>\n",
       "</table>\n",
       "</div>"
      ],
      "text/plain": [
       "                                       Meme ID  Archived URL  Meme Page URL  \\\n",
       "Base Meme Name                                                                \n",
       "Y U No                                     766           766            766   \n",
       "Futurama Fry                               663           663            663   \n",
       "Insanity Wolf                              612           612            612   \n",
       "Philosoraptor                              531           531            531   \n",
       "The Most Interesting Man In The World      511           511            511   \n",
       "Success Kid                                510           510            510   \n",
       "Foul Bachelor Frog                         469           469            469   \n",
       "Socially Awkward Penguin                   446           446            446   \n",
       "Advice Yoda Gives                          420           420            420   \n",
       "Joseph Ducreux                             415           415            415   \n",
       "Forever Alone                              414           414            414   \n",
       "Slowpoke                                   400           400            400   \n",
       "Good Guy Greg                              387           387            387   \n",
       "we got a badass over here                  381           381            381   \n",
       "Courage Wolf                               375           375            375   \n",
       "Butthurt Dweller                           365           365            365   \n",
       "Yo Dawg                                    363           363            363   \n",
       "Willy Wonka                                356           356            356   \n",
       "success baby                               345           345            345   \n",
       "Chuck Norris                               344           344            344   \n",
       "Conspiracy Keanu                           340           340            340   \n",
       "Annoying Gamer Kid                         332           332            332   \n",
       "Trollface                                  308           308            308   \n",
       "Me Gusta                                   299           299            299   \n",
       "All the things                             297           297            297   \n",
       "\n",
       "                                       MD5 Hash  File Size (In Bytes)  \\\n",
       "Base Meme Name                                                          \n",
       "Y U No                                      766                   766   \n",
       "Futurama Fry                                663                   663   \n",
       "Insanity Wolf                               612                   612   \n",
       "Philosoraptor                               531                   531   \n",
       "The Most Interesting Man In The World       511                   511   \n",
       "Success Kid                                 510                   510   \n",
       "Foul Bachelor Frog                          469                   469   \n",
       "Socially Awkward Penguin                    446                   446   \n",
       "Advice Yoda Gives                           420                   420   \n",
       "Joseph Ducreux                              415                   415   \n",
       "Forever Alone                               414                   414   \n",
       "Slowpoke                                    400                   400   \n",
       "Good Guy Greg                               387                   387   \n",
       "we got a badass over here                   381                   381   \n",
       "Courage Wolf                                375                   375   \n",
       "Butthurt Dweller                            365                   365   \n",
       "Yo Dawg                                     363                   363   \n",
       "Willy Wonka                                 356                   356   \n",
       "success baby                                345                   345   \n",
       "Chuck Norris                                344                   344   \n",
       "Conspiracy Keanu                            340                   340   \n",
       "Annoying Gamer Kid                          332                   332   \n",
       "Trollface                                   308                   308   \n",
       "Me Gusta                                    299                   299   \n",
       "All the things                              297                   297   \n",
       "\n",
       "                                       Alternate Text  Display Name  \\\n",
       "Base Meme Name                                                        \n",
       "Y U No                                            766           766   \n",
       "Futurama Fry                                      663           663   \n",
       "Insanity Wolf                                     612           612   \n",
       "Philosoraptor                                     531           531   \n",
       "The Most Interesting Man In The World             511           511   \n",
       "Success Kid                                       510           510   \n",
       "Foul Bachelor Frog                                469           469   \n",
       "Socially Awkward Penguin                          446           446   \n",
       "Advice Yoda Gives                                 420           420   \n",
       "Joseph Ducreux                                    415           415   \n",
       "Forever Alone                                     414           414   \n",
       "Slowpoke                                          400           400   \n",
       "Good Guy Greg                                     387           387   \n",
       "we got a badass over here                         381           381   \n",
       "Courage Wolf                                      375           375   \n",
       "Butthurt Dweller                                  365           365   \n",
       "Yo Dawg                                           363           363   \n",
       "Willy Wonka                                       356           356   \n",
       "success baby                                      345           345   \n",
       "Chuck Norris                                      344           344   \n",
       "Conspiracy Keanu                                  340           340   \n",
       "Annoying Gamer Kid                                332           332   \n",
       "Trollface                                         308           308   \n",
       "Me Gusta                                          297           299   \n",
       "All the things                                    297           297   \n",
       "\n",
       "                                       Upper Text  Lower Text  \n",
       "Base Meme Name                                                 \n",
       "Y U No                                        766         766  \n",
       "Futurama Fry                                  663         663  \n",
       "Insanity Wolf                                 612         612  \n",
       "Philosoraptor                                 531         531  \n",
       "The Most Interesting Man In The World         511         511  \n",
       "Success Kid                                   510         510  \n",
       "Foul Bachelor Frog                            469         468  \n",
       "Socially Awkward Penguin                      446         446  \n",
       "Advice Yoda Gives                             420         420  \n",
       "Joseph Ducreux                                415         415  \n",
       "Forever Alone                                 414         414  \n",
       "Slowpoke                                      400         400  \n",
       "Good Guy Greg                                 387         387  \n",
       "we got a badass over here                     381         380  \n",
       "Courage Wolf                                  375         375  \n",
       "Butthurt Dweller                              365         365  \n",
       "Yo Dawg                                       362         362  \n",
       "Willy Wonka                                   356         356  \n",
       "success baby                                  344         342  \n",
       "Chuck Norris                                  344         344  \n",
       "Conspiracy Keanu                              340         340  \n",
       "Annoying Gamer Kid                            332         332  \n",
       "Trollface                                     308         308  \n",
       "Me Gusta                                      298         294  \n",
       "All the things                                297         296  "
      ]
     },
     "execution_count": 6,
     "metadata": {},
     "output_type": "execute_result"
    }
   ],
   "source": [
    "meme_data.groupby([\"Base Meme Name\"]).count().sort_values(by=\"Meme ID\",ascending=False)[0:25]"
   ]
  },
  {
   "cell_type": "code",
   "execution_count": 7,
   "metadata": {
    "colab": {
     "base_uri": "https://localhost:8080/",
     "height": 575
    },
    "id": "gw4kRSnXXXsh",
    "outputId": "a1b732af-5c92-4e9d-9666-fcb9c88a3f60"
   },
   "outputs": [
    {
     "data": {
      "text/html": [
       "<img src=\"http://webarchive.loc.gov/all/0/http://cdn.meme.am/instances/250x250/20150800.jpg\"/>"
      ],
      "text/plain": [
       "<IPython.core.display.Image object>"
      ]
     },
     "metadata": {},
     "output_type": "display_data"
    },
    {
     "name": "stdout",
     "output_type": "stream",
     "text": [
      "View on Memegenerator: \t http://memegenerator.net/instance/20150800\n",
      "View on Archive: \t\t\t http://webarchive.loc.gov/all/0/http://cdn.meme.am/instances/250x250/20150800.jpg\n"
     ]
    },
    {
     "data": {
      "text/html": [
       "<div>\n",
       "<style scoped>\n",
       "    .dataframe tbody tr th:only-of-type {\n",
       "        vertical-align: middle;\n",
       "    }\n",
       "\n",
       "    .dataframe tbody tr th {\n",
       "        vertical-align: top;\n",
       "    }\n",
       "\n",
       "    .dataframe thead th {\n",
       "        text-align: right;\n",
       "    }\n",
       "</style>\n",
       "<table border=\"1\" class=\"dataframe\">\n",
       "  <thead>\n",
       "    <tr style=\"text-align: right;\">\n",
       "      <th></th>\n",
       "      <th>Meme ID</th>\n",
       "      <th>Archived URL</th>\n",
       "      <th>Base Meme Name</th>\n",
       "      <th>Meme Page URL</th>\n",
       "      <th>MD5 Hash</th>\n",
       "      <th>File Size (In Bytes)</th>\n",
       "      <th>Alternate Text</th>\n",
       "      <th>Display Name</th>\n",
       "      <th>Upper Text</th>\n",
       "      <th>Lower Text</th>\n",
       "    </tr>\n",
       "  </thead>\n",
       "  <tbody>\n",
       "    <tr>\n",
       "      <th>29959</th>\n",
       "      <td>20150800</td>\n",
       "      <td>http://webarchive.loc.gov/all/0/http://cdn.mem...</td>\n",
       "      <td>Slowpoke</td>\n",
       "      <td>http://memegenerator.net/instance/20150800</td>\n",
       "      <td>9304eefb836ebba728487b5804badd3b</td>\n",
       "      <td>50907</td>\n",
       "      <td>мама говорит это всё план тормозит</td>\n",
       "      <td>Slowpoke</td>\n",
       "      <td>мама говорит</td>\n",
       "      <td>это всё план тормозит</td>\n",
       "    </tr>\n",
       "  </tbody>\n",
       "</table>\n",
       "</div>"
      ],
      "text/plain": [
       "        Meme ID                                       Archived URL  \\\n",
       "29959  20150800  http://webarchive.loc.gov/all/0/http://cdn.mem...   \n",
       "\n",
       "      Base Meme Name                               Meme Page URL  \\\n",
       "29959       Slowpoke  http://memegenerator.net/instance/20150800   \n",
       "\n",
       "                               MD5 Hash  File Size (In Bytes)  \\\n",
       "29959  9304eefb836ebba728487b5804badd3b                 50907   \n",
       "\n",
       "                           Alternate Text Display Name    Upper Text  \\\n",
       "29959  мама говорит это всё план тормозит     Slowpoke  мама говорит   \n",
       "\n",
       "                  Lower Text  \n",
       "29959  это всё план тормозит  "
      ]
     },
     "execution_count": 7,
     "metadata": {},
     "output_type": "execute_result"
    }
   ],
   "source": [
    "#@title Random Meme by Category\n",
    "#@markdown Type copy and pasting one of the **Base Meme Name** to see a random entry from that category of meme\n",
    "meme_option = \"Slowpoke\" #@param {type:\"string\"}\n",
    "\n",
    "rando = meme_data[meme_data[\"Base Meme Name\"] == str(meme_option)].sample(1)\n",
    "display(Image(url=rando['Archived URL'].values[0], format='jpg'))\n",
    "print(\"View on Memegenerator: \\t\",rando['Meme Page URL'].values[0])\n",
    "print(\"View on Archive: \\t\\t\\t\",rando['Archived URL'].values[0])\n",
    "rando"
   ]
  },
  {
   "cell_type": "markdown",
   "metadata": {
    "id": "b_BrvuMfN8rd"
   },
   "source": [
    "What's the **average** number of memes in each type?\n",
    "\n"
   ]
  },
  {
   "cell_type": "code",
   "execution_count": 8,
   "metadata": {
    "colab": {
     "base_uri": "https://localhost:8080/"
    },
    "id": "x27KK6YLOGpd",
    "outputId": "e715d825-e83d-49e5-8082-e9dfc6a45b59"
   },
   "outputs": [
    {
     "name": "stdout",
     "output_type": "stream",
     "text": [
      "Average number of entries per meme category:  34.940642035130224\n"
     ]
    }
   ],
   "source": [
    "meme_type_average = meme_data.groupby([\"Base Meme Name\"])[\"Meme ID\"].count().mean()\n",
    "print(\"Average number of entries per meme category: \",meme_type_average)"
   ]
  },
  {
   "cell_type": "markdown",
   "metadata": {
    "id": "o3YoM9_scv8I"
   },
   "source": [
    "Let's draw a **histogram** of this distribution"
   ]
  },
  {
   "cell_type": "code",
   "execution_count": 9,
   "metadata": {
    "colab": {
     "base_uri": "https://localhost:8080/",
     "height": 295
    },
    "id": "IJBzAe84d6y6",
    "outputId": "f1284e77-86b6-46f8-a7e0-993acedb1789"
   },
   "outputs": [
    {
     "data": {
      "image/png": "[encoded data removed]",
      "text/plain": [
       "<Figure size 432x288 with 1 Axes>"
      ]
     },
     "metadata": {
      "filenames": {
       "image/png": "/Users/calmurgu/Desktop/mynewbook/_build/jupyter_execute/Meme_Web_Archive_Exploration_21_0.png"
      },
      "needs_background": "light"
     },
     "output_type": "display_data"
    }
   ],
   "source": [
    "bins = 150\n",
    "\n",
    "plt.hist(meme_data.groupby([\"Base Meme Name\"]).count().sort_values(by=\"Meme ID\",ascending=False)[\"Meme ID\"],bins)\n",
    "\n",
    "plt.title(\"Category Frequency\")\n",
    "plt.xlabel(\"Number of Entries\")\n",
    "plt.ylabel(\"Number of Categories\")\n",
    "plt.show()"
   ]
  },
  {
   "cell_type": "markdown",
   "metadata": {
    "id": "booB-XZJfvib"
   },
   "source": [
    "**Q3** Can you describe this graph? What is the biggest value that it is showing?"
   ]
  },
  {
   "cell_type": "markdown",
   "metadata": {
    "id": "avhUqg5LgMRT"
   },
   "source": []
  },
  {
   "cell_type": "markdown",
   "metadata": {
    "id": "3RL3YME9WOac"
   },
   "source": [
    "data things to do\n",
    "- alt text somehow?\n",
    "- language detection?\n",
    "- pull in scores via API?"
   ]
  },
  {
   "cell_type": "markdown",
   "metadata": {
    "id": "XhH97IFLhdoB"
   },
   "source": [
    "## Language info\n",
    "\n",
    "As we've seen in our examples there are many different languages represented in our dataset. Let's see if we can **enrich** our dataset by automatically detecting what language it is and adding that as a new column. We'll us the [langdetect](https://pypi.org/project/langdetect/) library to do this. "
   ]
  },
  {
   "cell_type": "code",
   "execution_count": 10,
   "metadata": {
    "colab": {
     "base_uri": "https://localhost:8080/",
     "height": 266
    },
    "id": "ECsGpyPHknSl",
    "outputId": "95a2133a-65db-4848-9d5d-c55d70b10acd"
   },
   "outputs": [
    {
     "data": {
      "text/html": [
       "<div>\n",
       "<style scoped>\n",
       "    .dataframe tbody tr th:only-of-type {\n",
       "        vertical-align: middle;\n",
       "    }\n",
       "\n",
       "    .dataframe tbody tr th {\n",
       "        vertical-align: top;\n",
       "    }\n",
       "\n",
       "    .dataframe thead th {\n",
       "        text-align: right;\n",
       "    }\n",
       "</style>\n",
       "<table border=\"1\" class=\"dataframe\">\n",
       "  <thead>\n",
       "    <tr style=\"text-align: right;\">\n",
       "      <th></th>\n",
       "      <th>Meme ID</th>\n",
       "      <th>Archived URL</th>\n",
       "      <th>Base Meme Name</th>\n",
       "      <th>Meme Page URL</th>\n",
       "      <th>MD5 Hash</th>\n",
       "      <th>File Size (In Bytes)</th>\n",
       "      <th>Alternate Text</th>\n",
       "      <th>Display Name</th>\n",
       "      <th>Upper Text</th>\n",
       "      <th>Lower Text</th>\n",
       "    </tr>\n",
       "  </thead>\n",
       "  <tbody>\n",
       "    <tr>\n",
       "      <th>29959</th>\n",
       "      <td>20150800</td>\n",
       "      <td>http://webarchive.loc.gov/all/0/http://cdn.mem...</td>\n",
       "      <td>Slowpoke</td>\n",
       "      <td>http://memegenerator.net/instance/20150800</td>\n",
       "      <td>9304eefb836ebba728487b5804badd3b</td>\n",
       "      <td>50907</td>\n",
       "      <td>мама говорит это всё план тормозит</td>\n",
       "      <td>Slowpoke</td>\n",
       "      <td>мама говорит</td>\n",
       "      <td>это всё план тормозит</td>\n",
       "    </tr>\n",
       "  </tbody>\n",
       "</table>\n",
       "</div>"
      ],
      "text/plain": [
       "        Meme ID                                       Archived URL  \\\n",
       "29959  20150800  http://webarchive.loc.gov/all/0/http://cdn.mem...   \n",
       "\n",
       "      Base Meme Name                               Meme Page URL  \\\n",
       "29959       Slowpoke  http://memegenerator.net/instance/20150800   \n",
       "\n",
       "                               MD5 Hash  File Size (In Bytes)  \\\n",
       "29959  9304eefb836ebba728487b5804badd3b                 50907   \n",
       "\n",
       "                           Alternate Text Display Name    Upper Text  \\\n",
       "29959  мама говорит это всё план тормозит     Slowpoke  мама говорит   \n",
       "\n",
       "                  Lower Text  \n",
       "29959  это всё план тормозит  "
      ]
     },
     "execution_count": 10,
     "metadata": {},
     "output_type": "execute_result"
    }
   ],
   "source": [
    "#Let's look at our random item again\n",
    "rando"
   ]
  },
  {
   "cell_type": "code",
   "execution_count": 11,
   "metadata": {
    "colab": {
     "base_uri": "https://localhost:8080/",
     "height": 35
    },
    "id": "1ezA2eAbjsAP",
    "outputId": "febffee7-016b-4cc2-b3a2-002618229868"
   },
   "outputs": [
    {
     "data": {
      "text/plain": [
       "'ru'"
      ]
     },
     "execution_count": 11,
     "metadata": {},
     "output_type": "execute_result"
    }
   ],
   "source": [
    "# Let's the language of the random entry from earlier\n",
    "# We'll get a two letter languge code that represents one of the languages in the list of ISO 639-1 codes (https://en.wikipedia.org/wiki/List_of_ISO_639-1_codes). \n",
    "detect(str(rando[\"Alternate Text\"]))"
   ]
  },
  {
   "cell_type": "markdown",
   "metadata": {
    "id": "ceDW1-LmvMbl"
   },
   "source": [
    "It would take to long to calculate all these values now for all of the entries in the dataset. So the next cell will just add a new column to our dataset of pre-calculated values.\n",
    "\n",
    "\n",
    "(It took 8 minutes for the code to run)"
   ]
  },
  {
   "cell_type": "code",
   "execution_count": 12,
   "metadata": {
    "colab": {
     "base_uri": "https://localhost:8080/",
     "height": 600
    },
    "id": "krcyF-bfvnuF",
    "outputId": "864c0217-2309-48b9-8c50-a7d96a547efc"
   },
   "outputs": [
    {
     "data": {
      "text/html": [
       "<div>\n",
       "<style scoped>\n",
       "    .dataframe tbody tr th:only-of-type {\n",
       "        vertical-align: middle;\n",
       "    }\n",
       "\n",
       "    .dataframe tbody tr th {\n",
       "        vertical-align: top;\n",
       "    }\n",
       "\n",
       "    .dataframe thead th {\n",
       "        text-align: right;\n",
       "    }\n",
       "</style>\n",
       "<table border=\"1\" class=\"dataframe\">\n",
       "  <thead>\n",
       "    <tr style=\"text-align: right;\">\n",
       "      <th></th>\n",
       "      <th>Meme ID</th>\n",
       "      <th>Archived URL</th>\n",
       "      <th>Base Meme Name</th>\n",
       "      <th>Meme Page URL</th>\n",
       "      <th>MD5 Hash</th>\n",
       "      <th>File Size (In Bytes)</th>\n",
       "      <th>Alternate Text</th>\n",
       "      <th>Display Name</th>\n",
       "      <th>Upper Text</th>\n",
       "      <th>Lower Text</th>\n",
       "      <th>Language</th>\n",
       "    </tr>\n",
       "  </thead>\n",
       "  <tbody>\n",
       "    <tr>\n",
       "      <th>4742</th>\n",
       "      <td>10484586</td>\n",
       "      <td>http://webarchive.loc.gov/all/0/https://cdn.me...</td>\n",
       "      <td>Musically Oblivious 8th Grader</td>\n",
       "      <td>http://memegenerator.net/instance/10484586</td>\n",
       "      <td>9d849825ad8cdc0be7d1a9630b570589</td>\n",
       "      <td>46180</td>\n",
       "      <td>я люблю классический рок например, fall out boy</td>\n",
       "      <td>Musically Oblivious 8th Grader</td>\n",
       "      <td>я люблю классический рок</td>\n",
       "      <td>например, fall out boy</td>\n",
       "      <td>ru</td>\n",
       "    </tr>\n",
       "    <tr>\n",
       "      <th>9991</th>\n",
       "      <td>11122907</td>\n",
       "      <td>http://webarchive.loc.gov/all/0/https://cdn.me...</td>\n",
       "      <td>Bear Grylls</td>\n",
       "      <td>http://memegenerator.net/instance/11122907</td>\n",
       "      <td>612f506c9bd67ecc8ede16867bfd8b39</td>\n",
       "      <td>78238</td>\n",
       "      <td>I should cut off my fingers and eat them I can...</td>\n",
       "      <td>Bear Grylls</td>\n",
       "      <td>I should cut off my fingers and eat them</td>\n",
       "      <td>I can just replace them with these sausages th...</td>\n",
       "      <td>en</td>\n",
       "    </tr>\n",
       "    <tr>\n",
       "      <th>57035</th>\n",
       "      <td>34640844</td>\n",
       "      <td>http://webarchive.loc.gov/all/0/https://cdn.me...</td>\n",
       "      <td>Advice Edit Button</td>\n",
       "      <td>http://memegenerator.net/instance/34640844</td>\n",
       "      <td>fe90beb8e806ccfc2d95782cad72367e</td>\n",
       "      <td>24526</td>\n",
       "      <td>I for one welcome overused meme thing</td>\n",
       "      <td>Advice Edit Button</td>\n",
       "      <td>I for one welcome</td>\n",
       "      <td>overused meme-thing</td>\n",
       "      <td>en</td>\n",
       "    </tr>\n",
       "    <tr>\n",
       "      <th>35417</th>\n",
       "      <td>22826540</td>\n",
       "      <td>http://webarchive.loc.gov/all/0/http://cdn.mem...</td>\n",
       "      <td>Feminist Cunt</td>\n",
       "      <td>http://memegenerator.net/instance/22826540</td>\n",
       "      <td>91b0bdb7ac1fd4747fa26d03caa753fa</td>\n",
       "      <td>46525</td>\n",
       "      <td>A real gentleman holds the door open for a gir...</td>\n",
       "      <td>Feminist Cunt</td>\n",
       "      <td>A real gentleman holds the door open for a girl</td>\n",
       "      <td>the only reason a guy holds the door open for ...</td>\n",
       "      <td>en</td>\n",
       "    </tr>\n",
       "    <tr>\n",
       "      <th>35936</th>\n",
       "      <td>23017599</td>\n",
       "      <td>http://webarchive.loc.gov/all/0/http://cdn.mem...</td>\n",
       "      <td>Extremely Drunk Metalhead</td>\n",
       "      <td>http://memegenerator.net/instance/23017599</td>\n",
       "      <td>79ecfcc27c27c29de26d6f3f2c6012e1</td>\n",
       "      <td>64977</td>\n",
       "      <td>wanted to play ME3 on release date ordered fro...</td>\n",
       "      <td>Extremely Drunk Metalhead</td>\n",
       "      <td>wanted to play ME3 on release date</td>\n",
       "      <td>ordered from zavvi</td>\n",
       "      <td>en</td>\n",
       "    </tr>\n",
       "  </tbody>\n",
       "</table>\n",
       "</div>"
      ],
      "text/plain": [
       "        Meme ID                                       Archived URL  \\\n",
       "4742   10484586  http://webarchive.loc.gov/all/0/https://cdn.me...   \n",
       "9991   11122907  http://webarchive.loc.gov/all/0/https://cdn.me...   \n",
       "57035  34640844  http://webarchive.loc.gov/all/0/https://cdn.me...   \n",
       "35417  22826540  http://webarchive.loc.gov/all/0/http://cdn.mem...   \n",
       "35936  23017599  http://webarchive.loc.gov/all/0/http://cdn.mem...   \n",
       "\n",
       "                       Base Meme Name  \\\n",
       "4742   Musically Oblivious 8th Grader   \n",
       "9991                      Bear Grylls   \n",
       "57035              Advice Edit Button   \n",
       "35417                   Feminist Cunt   \n",
       "35936       Extremely Drunk Metalhead   \n",
       "\n",
       "                                    Meme Page URL  \\\n",
       "4742   http://memegenerator.net/instance/10484586   \n",
       "9991   http://memegenerator.net/instance/11122907   \n",
       "57035  http://memegenerator.net/instance/34640844   \n",
       "35417  http://memegenerator.net/instance/22826540   \n",
       "35936  http://memegenerator.net/instance/23017599   \n",
       "\n",
       "                               MD5 Hash  File Size (In Bytes)  \\\n",
       "4742   9d849825ad8cdc0be7d1a9630b570589                 46180   \n",
       "9991   612f506c9bd67ecc8ede16867bfd8b39                 78238   \n",
       "57035  fe90beb8e806ccfc2d95782cad72367e                 24526   \n",
       "35417  91b0bdb7ac1fd4747fa26d03caa753fa                 46525   \n",
       "35936  79ecfcc27c27c29de26d6f3f2c6012e1                 64977   \n",
       "\n",
       "                                          Alternate Text  \\\n",
       "4742     я люблю классический рок например, fall out boy   \n",
       "9991   I should cut off my fingers and eat them I can...   \n",
       "57035              I for one welcome overused meme thing   \n",
       "35417  A real gentleman holds the door open for a gir...   \n",
       "35936  wanted to play ME3 on release date ordered fro...   \n",
       "\n",
       "                         Display Name  \\\n",
       "4742   Musically Oblivious 8th Grader   \n",
       "9991                      Bear Grylls   \n",
       "57035              Advice Edit Button   \n",
       "35417                   Feminist Cunt   \n",
       "35936       Extremely Drunk Metalhead   \n",
       "\n",
       "                                            Upper Text  \\\n",
       "4742                          я люблю классический рок   \n",
       "9991          I should cut off my fingers and eat them   \n",
       "57035                                I for one welcome   \n",
       "35417  A real gentleman holds the door open for a girl   \n",
       "35936               wanted to play ME3 on release date   \n",
       "\n",
       "                                              Lower Text Language  \n",
       "4742                              например, fall out boy       ru  \n",
       "9991   I can just replace them with these sausages th...       en  \n",
       "57035                                overused meme-thing       en  \n",
       "35417  the only reason a guy holds the door open for ...       en  \n",
       "35936                                 ordered from zavvi       en  "
      ]
     },
     "execution_count": 12,
     "metadata": {},
     "output_type": "execute_result"
    }
   ],
   "source": [
    "#open CSV to dataframe\n",
    "lang_data = pd.read_csv(\"https://raw.githubusercontent.com/BrockDSL/Analyzing_Web_Archives/main/language_data.csv\")\n",
    "#append to meme_data dataframe\n",
    "meme_data = meme_data.join(lang_data)\n",
    "meme_data.sample(5)"
   ]
  },
  {
   "cell_type": "code",
   "execution_count": 13,
   "metadata": {
    "colab": {
     "base_uri": "https://localhost:8080/",
     "height": 264
    },
    "id": "c50-lZ6E20DK",
    "outputId": "8dd67719-6072-4c39-f12c-6cc01678d959"
   },
   "outputs": [
    {
     "data": {
      "image/png": "[encoded data removed]",
      "text/plain": [
       "<Figure size 432x288 with 1 Axes>"
      ]
     },
     "metadata": {
      "filenames": {
       "image/png": "/Users/calmurgu/Desktop/mynewbook/_build/jupyter_execute/Meme_Web_Archive_Exploration_30_0.png"
      }
     },
     "output_type": "display_data"
    }
   ],
   "source": [
    "language_count = dict()\n",
    "\n",
    "# Go through each row of the data and see what two letter language code\n",
    "# is in the iso_language_code metadata field\n",
    "\n",
    "for row in meme_data.itertuples(index=False):\n",
    "  language_entry = row[-1]\n",
    "  #Create a lookup 'dictionary' of codes\n",
    "  if language_entry in language_count:\n",
    "    language_count[language_entry] += 1\n",
    "  else:\n",
    "    language_count[language_entry] = 1\n",
    "    \n",
    "\n",
    "plt.pie(list(language_count.values()),labels=list(language_count.keys()))\n",
    "plt.title(\"Languages in the Memes\")\n",
    "plt.show()"
   ]
  }
 ],
 "metadata": {
  "colab": {
   "collapsed_sections": [],
   "name": "Meme Web Archive Exploration",
   "provenance": []
  },
  "kernelspec": {
   "display_name": "Python 3",
   "name": "python3"
  },
  "language_info": {
   "codemirror_mode": {
    "name": "ipython",
    "version": 3
   },
   "file_extension": ".py",
   "mimetype": "text/x-python",
   "name": "python",
   "nbconvert_exporter": "python",
   "pygments_lexer": "ipython3",
   "version": "3.9.7"
  }
 },
 "nbformat": 4,
 "nbformat_minor": 0
}